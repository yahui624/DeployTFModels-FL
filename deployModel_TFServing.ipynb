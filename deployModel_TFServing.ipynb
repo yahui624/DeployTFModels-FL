{
  "cells": [
    {
      "cell_type": "markdown",
      "metadata": {
        "colab_type": "text",
        "id": "view-in-github"
      },
      "source": [
        "<a href=\"https://colab.research.google.com/github/yahui624/DeployTFModels-FL/blob/main/deployModel_TFServing.ipynb\" target=\"_parent\"><img src=\"https://colab.research.google.com/assets/colab-badge.svg\" alt=\"Open In Colab\"/></a>"
      ]
    },
    {
      "cell_type": "code",
      "execution_count": 1,
      "metadata": {
        "id": "O08pUGvm6hVO"
      },
      "outputs": [
        {
          "name": "stderr",
          "output_type": "stream",
          "text": [
            "2022-12-02 00:06:27.363420: I tensorflow/core/platform/cpu_feature_guard.cc:193] This TensorFlow binary is optimized with oneAPI Deep Neural Network Library (oneDNN) to use the following CPU instructions in performance-critical operations:  AVX2 FMA\n",
            "To enable them in other operations, rebuild TensorFlow with the appropriate compiler flags.\n"
          ]
        }
      ],
      "source": [
        "import tensorflow as tf\n",
        "import os\n",
        "import matplotlib.pyplot as plt\n",
        "import pandas as pd\n",
        "import json \n",
        "import requests \n",
        "import numpy as np\n",
        "from pathlib import Path\n",
        "import grpc\n",
        "from tensorflow_serving.apis import prediction_service_pb2_grpc\n",
        "from tensorflow_serving.apis.predict_pb2 import PredictRequest"
      ]
    },
    {
      "cell_type": "code",
      "execution_count": 2,
      "metadata": {
        "colab": {
          "base_uri": "https://localhost:8080/"
        },
        "id": "mae_oknC6swF",
        "outputId": "394cccef-c8e7-4a3f-e03b-da3507e40b27"
      },
      "outputs": [
        {
          "name": "stdout",
          "output_type": "stream",
          "text": [
            "Downloading data from https://storage.googleapis.com/tensorflow/tf-keras-datasets/train-labels-idx1-ubyte.gz\n",
            "29515/29515 [==============================] - 0s 0us/step\n",
            "Downloading data from https://storage.googleapis.com/tensorflow/tf-keras-datasets/train-images-idx3-ubyte.gz\n",
            "26421880/26421880 [==============================] - 1s 0us/step\n",
            "Downloading data from https://storage.googleapis.com/tensorflow/tf-keras-datasets/t10k-labels-idx1-ubyte.gz\n",
            "5148/5148 [==============================] - 0s 0us/step\n",
            "Downloading data from https://storage.googleapis.com/tensorflow/tf-keras-datasets/t10k-images-idx3-ubyte.gz\n",
            "4422102/4422102 [==============================] - 0s 0us/step\n"
          ]
        }
      ],
      "source": [
        "fashion_mnist = tf.keras.datasets.fashion_mnist.load_data()\n",
        "(X_train_full, y_train_full), (X_test, y_test) = fashion_mnist\n",
        "X_train, y_train = X_train_full[:-5000], y_train_full[:-5000]\n",
        "X_valid, y_valid = X_train_full[-5000:], y_train_full[-5000:]"
      ]
    },
    {
      "cell_type": "code",
      "execution_count": 3,
      "metadata": {
        "colab": {
          "base_uri": "https://localhost:8080/"
        },
        "id": "RhRbYJcB6vQ-",
        "outputId": "183b4468-ee1e-4f8e-f59e-3af69d17da6b"
      },
      "outputs": [
        {
          "name": "stdout",
          "output_type": "stream",
          "text": [
            "(55000, 28, 28)\n",
            "uint8\n"
          ]
        }
      ],
      "source": [
        "print(X_train.shape)\n",
        "print(X_train.dtype)"
      ]
    },
    {
      "cell_type": "code",
      "execution_count": 4,
      "metadata": {
        "id": "iKWmGmRN6zMf"
      },
      "outputs": [],
      "source": [
        "X_train, X_valid, X_test = X_train / 255., X_valid / 255., X_test / 255."
      ]
    },
    {
      "cell_type": "code",
      "execution_count": 5,
      "metadata": {
        "id": "SaCyyCmy74nD"
      },
      "outputs": [],
      "source": [
        "class_names = [\"T-shirt/top\", \"Trouser\", \"Pullover\", \"Dress\", \"Coat\",\n",
        "               \"Sandal\", \"Shirt\", \"Sneaker\", \"Bag\", \"Ankle boot\"]"
      ]
    },
    {
      "cell_type": "code",
      "execution_count": 6,
      "metadata": {
        "id": "7rO3RlgP75Hn"
      },
      "outputs": [
        {
          "name": "stderr",
          "output_type": "stream",
          "text": [
            "2022-12-02 00:07:07.586159: I tensorflow/core/platform/cpu_feature_guard.cc:193] This TensorFlow binary is optimized with oneAPI Deep Neural Network Library (oneDNN) to use the following CPU instructions in performance-critical operations:  AVX2 FMA\n",
            "To enable them in other operations, rebuild TensorFlow with the appropriate compiler flags.\n"
          ]
        }
      ],
      "source": [
        "model = tf.keras.Sequential([\n",
        "    tf.keras.layers.Flatten(input_shape=[28, 28]),\n",
        "    tf.keras.layers.Dense(300, activation=\"relu\"),\n",
        "    tf.keras.layers.Dense(100, activation=\"relu\"),\n",
        "    tf.keras.layers.Dense(10, activation=\"softmax\")\n",
        "])"
      ]
    },
    {
      "cell_type": "code",
      "execution_count": 7,
      "metadata": {
        "colab": {
          "base_uri": "https://localhost:8080/"
        },
        "id": "s8pTi5pA77Ry",
        "outputId": "3d7d725d-f15d-4a25-bce2-6996bce9df02"
      },
      "outputs": [
        {
          "name": "stdout",
          "output_type": "stream",
          "text": [
            "Model: \"sequential\"\n",
            "_________________________________________________________________\n",
            " Layer (type)                Output Shape              Param #   \n",
            "=================================================================\n",
            " flatten (Flatten)           (None, 784)               0         \n",
            "                                                                 \n",
            " dense (Dense)               (None, 300)               235500    \n",
            "                                                                 \n",
            " dense_1 (Dense)             (None, 100)               30100     \n",
            "                                                                 \n",
            " dense_2 (Dense)             (None, 10)                1010      \n",
            "                                                                 \n",
            "=================================================================\n",
            "Total params: 266,610\n",
            "Trainable params: 266,610\n",
            "Non-trainable params: 0\n",
            "_________________________________________________________________\n"
          ]
        }
      ],
      "source": [
        "model.summary()"
      ]
    },
    {
      "cell_type": "code",
      "execution_count": 8,
      "metadata": {
        "colab": {
          "base_uri": "https://localhost:8080/"
        },
        "id": "-yQl8QVD8ARW",
        "outputId": "85e80124-9a57-4a93-d54f-459d0ce543f1"
      },
      "outputs": [
        {
          "data": {
            "text/plain": [
              "[<keras.layers.reshaping.flatten.Flatten at 0x7facc04be020>,\n",
              " <keras.layers.core.dense.Dense at 0x7facb26e0e20>,\n",
              " <keras.layers.core.dense.Dense at 0x7facb26e1030>,\n",
              " <keras.layers.core.dense.Dense at 0x7facb26e19c0>]"
            ]
          },
          "execution_count": 8,
          "metadata": {},
          "output_type": "execute_result"
        }
      ],
      "source": [
        "model.layers"
      ]
    },
    {
      "cell_type": "code",
      "execution_count": 9,
      "metadata": {
        "colab": {
          "base_uri": "https://localhost:8080/"
        },
        "id": "BY5qfEMn8CIn",
        "outputId": "ed3d13fb-53f8-4792-9fac-72f9e8cbdf20"
      },
      "outputs": [
        {
          "name": "stdout",
          "output_type": "stream",
          "text": [
            "dense\n",
            "True\n"
          ]
        }
      ],
      "source": [
        "hidden1 = model.layers[1]\n",
        "weights, biases = hidden1.get_weights()"
      ]
    },
    {
      "cell_type": "code",
      "execution_count": 12,
      "metadata": {
        "id": "aeCHVPHg8iE-"
      },
      "outputs": [],
      "source": [
        "model.compile(loss=\"sparse_categorical_crossentropy\",\n",
        "              optimizer=\"sgd\",\n",
        "              metrics=[\"accuracy\"])"
      ]
    },
    {
      "cell_type": "code",
      "execution_count": 13,
      "metadata": {
        "colab": {
          "base_uri": "https://localhost:8080/"
        },
        "id": "6eVIJR0F8kG_",
        "outputId": "fae91fca-3b15-4a34-a226-f6c22a67ebd5"
      },
      "outputs": [
        {
          "name": "stdout",
          "output_type": "stream",
          "text": [
            "Epoch 1/30\n",
            "1719/1719 [==============================] - 4s 2ms/step - loss: 0.7026 - accuracy: 0.7708 - val_loss: 0.5009 - val_accuracy: 0.8278\n",
            "Epoch 2/30\n",
            "1719/1719 [==============================] - 4s 2ms/step - loss: 0.4846 - accuracy: 0.8324 - val_loss: 0.4490 - val_accuracy: 0.8446\n",
            "Epoch 3/30\n",
            "1719/1719 [==============================] - 5s 3ms/step - loss: 0.4418 - accuracy: 0.8463 - val_loss: 0.4550 - val_accuracy: 0.8362\n",
            "Epoch 4/30\n",
            "1719/1719 [==============================] - 5s 3ms/step - loss: 0.4143 - accuracy: 0.8547 - val_loss: 0.4000 - val_accuracy: 0.8608\n",
            "Epoch 5/30\n",
            "1719/1719 [==============================] - 5s 3ms/step - loss: 0.3945 - accuracy: 0.8621 - val_loss: 0.3890 - val_accuracy: 0.8630\n",
            "Epoch 6/30\n",
            "1719/1719 [==============================] - 5s 3ms/step - loss: 0.3776 - accuracy: 0.8671 - val_loss: 0.3900 - val_accuracy: 0.8556\n",
            "Epoch 7/30\n",
            "1719/1719 [==============================] - 5s 3ms/step - loss: 0.3639 - accuracy: 0.8716 - val_loss: 0.3750 - val_accuracy: 0.8682\n",
            "Epoch 8/30\n",
            "1719/1719 [==============================] - 5s 3ms/step - loss: 0.3509 - accuracy: 0.8762 - val_loss: 0.3846 - val_accuracy: 0.8620\n",
            "Epoch 9/30\n",
            "1719/1719 [==============================] - 6s 3ms/step - loss: 0.3416 - accuracy: 0.8793 - val_loss: 0.3539 - val_accuracy: 0.8728\n",
            "Epoch 10/30\n",
            "1719/1719 [==============================] - 7s 4ms/step - loss: 0.3311 - accuracy: 0.8807 - val_loss: 0.3756 - val_accuracy: 0.8662\n",
            "Epoch 11/30\n",
            "1719/1719 [==============================] - 7s 4ms/step - loss: 0.3233 - accuracy: 0.8855 - val_loss: 0.3516 - val_accuracy: 0.8702\n",
            "Epoch 12/30\n",
            "1719/1719 [==============================] - 6s 4ms/step - loss: 0.3149 - accuracy: 0.8872 - val_loss: 0.3618 - val_accuracy: 0.8674\n",
            "Epoch 13/30\n",
            "1719/1719 [==============================] - 6s 4ms/step - loss: 0.3075 - accuracy: 0.8909 - val_loss: 0.3446 - val_accuracy: 0.8744\n",
            "Epoch 14/30\n",
            "1719/1719 [==============================] - 6s 4ms/step - loss: 0.2995 - accuracy: 0.8923 - val_loss: 0.3341 - val_accuracy: 0.8768\n",
            "Epoch 15/30\n",
            "1719/1719 [==============================] - 6s 4ms/step - loss: 0.2945 - accuracy: 0.8938 - val_loss: 0.3300 - val_accuracy: 0.8780\n",
            "Epoch 16/30\n",
            "1719/1719 [==============================] - 7s 4ms/step - loss: 0.2887 - accuracy: 0.8961 - val_loss: 0.3275 - val_accuracy: 0.8754\n",
            "Epoch 17/30\n",
            "1719/1719 [==============================] - 7s 4ms/step - loss: 0.2817 - accuracy: 0.8990 - val_loss: 0.3249 - val_accuracy: 0.8832\n",
            "Epoch 18/30\n",
            "1719/1719 [==============================] - 8s 5ms/step - loss: 0.2765 - accuracy: 0.9012 - val_loss: 0.3229 - val_accuracy: 0.8822\n",
            "Epoch 19/30\n",
            "1719/1719 [==============================] - 7s 4ms/step - loss: 0.2707 - accuracy: 0.9033 - val_loss: 0.3407 - val_accuracy: 0.8712\n",
            "Epoch 20/30\n",
            "1719/1719 [==============================] - 7s 4ms/step - loss: 0.2664 - accuracy: 0.9036 - val_loss: 0.3341 - val_accuracy: 0.8784\n",
            "Epoch 21/30\n",
            "1719/1719 [==============================] - 8s 5ms/step - loss: 0.2617 - accuracy: 0.9060 - val_loss: 0.3120 - val_accuracy: 0.8812\n",
            "Epoch 22/30\n",
            "1719/1719 [==============================] - 8s 5ms/step - loss: 0.2561 - accuracy: 0.9081 - val_loss: 0.3144 - val_accuracy: 0.8848\n",
            "Epoch 23/30\n",
            "1719/1719 [==============================] - 8s 5ms/step - loss: 0.2512 - accuracy: 0.9097 - val_loss: 0.3165 - val_accuracy: 0.8816\n",
            "Epoch 24/30\n",
            "1719/1719 [==============================] - 9s 5ms/step - loss: 0.2470 - accuracy: 0.9123 - val_loss: 0.3473 - val_accuracy: 0.8778\n",
            "Epoch 25/30\n",
            "1719/1719 [==============================] - 9s 5ms/step - loss: 0.2437 - accuracy: 0.9117 - val_loss: 0.3205 - val_accuracy: 0.8834\n",
            "Epoch 26/30\n",
            "1719/1719 [==============================] - 9s 5ms/step - loss: 0.2390 - accuracy: 0.9135 - val_loss: 0.3169 - val_accuracy: 0.8836\n",
            "Epoch 27/30\n",
            "1719/1719 [==============================] - 9s 5ms/step - loss: 0.2343 - accuracy: 0.9157 - val_loss: 0.3120 - val_accuracy: 0.8844\n",
            "Epoch 28/30\n",
            "1719/1719 [==============================] - 7s 4ms/step - loss: 0.2306 - accuracy: 0.9172 - val_loss: 0.3360 - val_accuracy: 0.8790\n",
            "Epoch 29/30\n",
            "1719/1719 [==============================] - 4s 2ms/step - loss: 0.2259 - accuracy: 0.9176 - val_loss: 0.3123 - val_accuracy: 0.8872\n",
            "Epoch 30/30\n",
            "1719/1719 [==============================] - 4s 2ms/step - loss: 0.2233 - accuracy: 0.9192 - val_loss: 0.3113 - val_accuracy: 0.8868\n"
          ]
        }
      ],
      "source": [
        "history = model.fit(X_train, y_train, epochs=30, validation_data=(X_valid, y_valid))"
      ]
    },
    {
      "cell_type": "code",
      "execution_count": 14,
      "metadata": {
        "colab": {
          "base_uri": "https://localhost:8080/",
          "height": 338
        },
        "id": "3NqrqsnU8q8o",
        "outputId": "fa60eee2-de93-4555-9538-69336e7c262c"
      },
      "outputs": [
        {
          "data": {
            "image/png": "[encoded data removed]",
            "text/plain": [
              "<Figure size 800x500 with 1 Axes>"
            ]
          },
          "metadata": {},
          "output_type": "display_data"
        }
      ],
      "source": [
        "pd.DataFrame(history.history).plot(\n",
        "    figsize=(8, 5), xlim=[0, 29], ylim=[0, 1], grid=True, xlabel=\"Epoch\",\n",
        "    style=[\"r--\", \"r--.\", \"b-\", \"b-*\"])\n",
        "plt.show()"
      ]
    },
    {
      "cell_type": "code",
      "execution_count": 16,
      "metadata": {
        "colab": {
          "base_uri": "https://localhost:8080/"
        },
        "id": "mv2GfiAW8tls",
        "outputId": "ba7e4833-6d11-47a2-a125-3d725f8e08bb"
      },
      "outputs": [
        {
          "name": "stdout",
          "output_type": "stream",
          "text": [
            "313/313 [==============================] - 0s 1ms/step - loss: 0.3346 - accuracy: 0.8826\n"
          ]
        },
        {
          "data": {
            "text/plain": [
              "[0.3345809280872345, 0.8826000094413757]"
            ]
          },
          "execution_count": 16,
          "metadata": {},
          "output_type": "execute_result"
        }
      ],
      "source": [
        "model.evaluate(X_test, y_test)"
      ]
    },
    {
      "cell_type": "code",
      "execution_count": 76,
      "metadata": {
        "colab": {
          "base_uri": "https://localhost:8080/"
        },
        "id": "B_qcarJo8v4-",
        "outputId": "c8bd2e08-1a60-4d41-fc51-8b0089e6d155"
      },
      "outputs": [
        {
          "name": "stdout",
          "output_type": "stream",
          "text": [
            "1/1 [==============================] - 0s 79ms/step\n"
          ]
        },
        {
          "data": {
            "text/plain": [
              "array([[0.  , 0.  , 0.  , 0.  , 0.  , 0.  , 0.  , 0.01, 0.  , 0.99],\n",
              "       [0.  , 0.  , 1.  , 0.  , 0.  , 0.  , 0.  , 0.  , 0.  , 0.  ],\n",
              "       [0.  , 1.  , 0.  , 0.  , 0.  , 0.  , 0.  , 0.  , 0.  , 0.  ]],\n",
              "      dtype=float32)"
            ]
          },
          "execution_count": 76,
          "metadata": {},
          "output_type": "execute_result"
        }
      ],
      "source": [
        "X_new = X_test[:3]\n",
        "y_proba = model.predict(X_new)\n",
        "y_proba.round(2)"
      ]
    },
    {
      "cell_type": "code",
      "execution_count": 18,
      "metadata": {
        "colab": {
          "base_uri": "https://localhost:8080/"
        },
        "id": "kFojT9Ih8zPs",
        "outputId": "c64aeb50-37a5-43b6-d224-7044ccf512f8"
      },
      "outputs": [
        {
          "name": "stdout",
          "output_type": "stream",
          "text": [
            "[9 2 1]\n",
            "['Ankle boot' 'Pullover' 'Trouser']\n"
          ]
        }
      ],
      "source": [
        "y_pred = y_proba.argmax(axis=-1)\n",
        "print(y_pred)\n",
        "print(np.array(class_names)[y_pred])"
      ]
    },
    {
      "cell_type": "code",
      "execution_count": 19,
      "metadata": {
        "colab": {
          "base_uri": "https://localhost:8080/"
        },
        "id": "C3hYA4Gg9DeW",
        "outputId": "3e51b4ca-8a46-4d0e-cc2b-cb474396defc"
      },
      "outputs": [
        {
          "name": "stdout",
          "output_type": "stream",
          "text": [
            "[9 2 1]\n"
          ]
        }
      ],
      "source": [
        "y_new = y_test[:3]\n",
        "print(y_new)"
      ]
    },
    {
      "cell_type": "code",
      "execution_count": 42,
      "metadata": {
        "id": "LAT9pJjK9OvO"
      },
      "outputs": [
        {
          "name": "stderr",
          "output_type": "stream",
          "text": [
            "WARNING:absl:Found untraced functions such as _update_step_xla while saving (showing 1 of 1). These functions will not be directly callable after loading.\n"
          ]
        },
        {
          "name": "stdout",
          "output_type": "stream",
          "text": [
            "INFO:tensorflow:Assets written to: my_mnist_model/0001/assets\n"
          ]
        },
        {
          "name": "stderr",
          "output_type": "stream",
          "text": [
            "INFO:tensorflow:Assets written to: my_mnist_model/0001/assets\n"
          ]
        }
      ],
      "source": [
        "# Exporting SavedModels\n",
        "model_name = \"my_mnist_model\"\n",
        "model_version = \"0001\"\n",
        "model_path = Path(model_name) / model_version\n",
        "# model.save(model_path, save_format=\"tf\")\n",
        "tf.saved_model.save(model, model_path)"
      ]
    },
    {
      "cell_type": "code",
      "execution_count": 40,
      "metadata": {},
      "outputs": [],
      "source": [
        "import shutil\n",
        "shutil.rmtree( model_name )"
      ]
    },
    {
      "cell_type": "code",
      "execution_count": 46,
      "metadata": {
        "colab": {
          "base_uri": "https://localhost:8080/"
        },
        "id": "3yrDmGi-9XtP",
        "outputId": "c8137c8b-be7f-4c39-da08-dfd449d28963"
      },
      "outputs": [
        {
          "name": "stdout",
          "output_type": "stream",
          "text": [
            "tf.Tensor(\n",
            "[[2.96729240e-06 3.24253790e-07 4.11663768e-06 7.27072256e-06\n",
            "  1.29482646e-06 2.42043776e-03 7.36846960e-06 1.15544340e-02\n",
            "  1.17851116e-04 9.85883892e-01]\n",
            " [4.25754261e-05 1.95856553e-09 9.99161482e-01 5.88559734e-09\n",
            "  7.75854627e-04 1.26225502e-10 2.01291659e-05 3.30601770e-14\n",
            "  2.91620594e-09 6.63436374e-13]\n",
            " [3.43607098e-06 9.99995828e-01 3.03607628e-09 4.08202112e-07\n",
            "  3.23290408e-07 4.41865424e-12 2.92902111e-08 6.11560733e-11\n",
            "  2.98311154e-09 2.53083804e-11]], shape=(3, 10), dtype=float32)\n"
          ]
        }
      ],
      "source": [
        "loaded = tf.saved_model.load(model_path)\n",
        "y_pred = loaded(tf.constant(X_new, dtype=tf.float32))\n",
        "print(y_pred)"
      ]
    },
    {
      "cell_type": "code",
      "execution_count": 47,
      "metadata": {
        "colab": {
          "base_uri": "https://localhost:8080/"
        },
        "id": "VM6QOwMH-rNw",
        "outputId": "353a6290-c87d-4536-e85d-4355596563a0"
      },
      "outputs": [
        {
          "name": "stdout",
          "output_type": "stream",
          "text": [
            "['serving_default']\n",
            "{'dense_2': TensorSpec(shape=(None, 10), dtype=tf.float32, name='dense_2')}\n"
          ]
        }
      ],
      "source": [
        "infer = loaded.signatures[\"serving_default\"]\n",
        "print(list(loaded.signatures.keys()))  # [\"serving_default\"]\n",
        "print(infer.structured_outputs)"
      ]
    },
    {
      "cell_type": "code",
      "execution_count": 48,
      "metadata": {
        "colab": {
          "base_uri": "https://localhost:8080/"
        },
        "id": "Doyvndd5_4-O",
        "outputId": "6297b61e-dc42-434f-f0df-223cda2f7970"
      },
      "outputs": [
        {
          "name": "stdout",
          "output_type": "stream",
          "text": [
            "2022-12-02 00:41:22.007917: I tensorflow/core/platform/cpu_feature_guard.cc:193] This TensorFlow binary is optimized with oneAPI Deep Neural Network Library (oneDNN) to use the following CPU instructions in performance-critical operations:  AVX2 FMA\n",
            "To enable them in other operations, rebuild TensorFlow with the appropriate compiler flags.\n",
            "The given SavedModel contains the following tag-sets:\n",
            "'serve'\n"
          ]
        }
      ],
      "source": [
        "!saved_model_cli show --dir my_mnist_model/0001"
      ]
    },
    {
      "cell_type": "code",
      "execution_count": 49,
      "metadata": {
        "colab": {
          "base_uri": "https://localhost:8080/"
        },
        "id": "YQ6j8-EwAjLc",
        "outputId": "b7a6b195-1037-4753-bb83-c7dc103cc54d"
      },
      "outputs": [
        {
          "name": "stdout",
          "output_type": "stream",
          "text": [
            "2022-12-02 00:41:28.823007: I tensorflow/core/platform/cpu_feature_guard.cc:193] This TensorFlow binary is optimized with oneAPI Deep Neural Network Library (oneDNN) to use the following CPU instructions in performance-critical operations:  AVX2 FMA\n",
            "To enable them in other operations, rebuild TensorFlow with the appropriate compiler flags.\n",
            "The given SavedModel MetaGraphDef contains SignatureDefs with the following keys:\n",
            "SignatureDef key: \"__saved_model_init_op\"\n",
            "SignatureDef key: \"serving_default\"\n"
          ]
        }
      ],
      "source": [
        "!saved_model_cli show --dir my_mnist_model/0001 --tag_set serve"
      ]
    },
    {
      "cell_type": "code",
      "execution_count": 50,
      "metadata": {
        "colab": {
          "base_uri": "https://localhost:8080/"
        },
        "id": "0I0EB3bgAp3K",
        "outputId": "b2af1d4e-6640-493c-966f-387dd18d9f68"
      },
      "outputs": [
        {
          "name": "stdout",
          "output_type": "stream",
          "text": [
            "2022-12-02 00:41:35.391054: I tensorflow/core/platform/cpu_feature_guard.cc:193] This TensorFlow binary is optimized with oneAPI Deep Neural Network Library (oneDNN) to use the following CPU instructions in performance-critical operations:  AVX2 FMA\n",
            "To enable them in other operations, rebuild TensorFlow with the appropriate compiler flags.\n",
            "The given SavedModel SignatureDef contains the following input(s):\n",
            "  inputs['flatten_input'] tensor_info:\n",
            "      dtype: DT_FLOAT\n",
            "      shape: (-1, 28, 28)\n",
            "      name: serving_default_flatten_input:0\n",
            "The given SavedModel SignatureDef contains the following output(s):\n",
            "  outputs['dense_2'] tensor_info:\n",
            "      dtype: DT_FLOAT\n",
            "      shape: (-1, 10)\n",
            "      name: StatefulPartitionedCall:0\n",
            "Method name is: tensorflow/serving/predict\n"
          ]
        }
      ],
      "source": [
        "! saved_model_cli show --dir my_mnist_model/0001 --tag_set serve --signature_def serving_default"
      ]
    },
    {
      "cell_type": "code",
      "execution_count": 51,
      "metadata": {
        "colab": {
          "base_uri": "https://localhost:8080/"
        },
        "id": "LUztc1KiGNPx",
        "outputId": "59c2b41e-2627-4e81-fb1e-b033a028bef0"
      },
      "outputs": [
        {
          "name": "stdout",
          "output_type": "stream",
          "text": [
            "2022-12-02 00:41:39.916681: I tensorflow/core/platform/cpu_feature_guard.cc:193] This TensorFlow binary is optimized with oneAPI Deep Neural Network Library (oneDNN) to use the following CPU instructions in performance-critical operations:  AVX2 FMA\n",
            "To enable them in other operations, rebuild TensorFlow with the appropriate compiler flags.\n",
            "\n",
            "MetaGraphDef with tag-set: 'serve' contains the following SignatureDefs:\n",
            "\n",
            "signature_def['__saved_model_init_op']:\n",
            "  The given SavedModel SignatureDef contains the following input(s):\n",
            "  The given SavedModel SignatureDef contains the following output(s):\n",
            "    outputs['__saved_model_init_op'] tensor_info:\n",
            "        dtype: DT_INVALID\n",
            "        shape: unknown_rank\n",
            "        name: NoOp\n",
            "  Method name is: \n",
            "\n",
            "signature_def['serving_default']:\n",
            "  The given SavedModel SignatureDef contains the following input(s):\n",
            "    inputs['flatten_input'] tensor_info:\n",
            "        dtype: DT_FLOAT\n",
            "        shape: (-1, 28, 28)\n",
            "        name: serving_default_flatten_input:0\n",
            "  The given SavedModel SignatureDef contains the following output(s):\n",
            "    outputs['dense_2'] tensor_info:\n",
            "        dtype: DT_FLOAT\n",
            "        shape: (-1, 10)\n",
            "        name: StatefulPartitionedCall:0\n",
            "  Method name is: tensorflow/serving/predict\n",
            "2022-12-02 00:41:44.383502: I tensorflow/core/platform/cpu_feature_guard.cc:193] This TensorFlow binary is optimized with oneAPI Deep Neural Network Library (oneDNN) to use the following CPU instructions in performance-critical operations:  AVX2 FMA\n",
            "To enable them in other operations, rebuild TensorFlow with the appropriate compiler flags.\n",
            "\n",
            "Concrete Functions:\n",
            "  Function Name: '__call__'\n",
            "    Option #1\n",
            "      Callable with:\n",
            "        Argument #1\n",
            "          flatten_input: TensorSpec(shape=(None, 28, 28), dtype=tf.float32, name='flatten_input')\n",
            "        Argument #2\n",
            "          DType: bool\n",
            "          Value: True\n",
            "        Argument #3\n",
            "          DType: NoneType\n",
            "          Value: None\n",
            "    Option #2\n",
            "      Callable with:\n",
            "        Argument #1\n",
            "          inputs: TensorSpec(shape=(None, 28, 28), dtype=tf.float32, name='inputs')\n",
            "        Argument #2\n",
            "          DType: bool\n",
            "          Value: True\n",
            "        Argument #3\n",
            "          DType: NoneType\n",
            "          Value: None\n",
            "    Option #3\n",
            "      Callable with:\n",
            "        Argument #1\n",
            "          flatten_input: TensorSpec(shape=(None, 28, 28), dtype=tf.float32, name='flatten_input')\n",
            "        Argument #2\n",
            "          DType: bool\n",
            "          Value: False\n",
            "        Argument #3\n",
            "          DType: NoneType\n",
            "          Value: None\n",
            "    Option #4\n",
            "      Callable with:\n",
            "        Argument #1\n",
            "          inputs: TensorSpec(shape=(None, 28, 28), dtype=tf.float32, name='inputs')\n",
            "        Argument #2\n",
            "          DType: bool\n",
            "          Value: False\n",
            "        Argument #3\n",
            "          DType: NoneType\n",
            "          Value: None\n",
            "\n",
            "  Function Name: '_default_save_signature'\n",
            "    Option #1\n",
            "      Callable with:\n",
            "        Argument #1\n",
            "          flatten_input: TensorSpec(shape=(None, 28, 28), dtype=tf.float32, name='flatten_input')\n",
            "\n",
            "  Function Name: 'call_and_return_all_conditional_losses'\n",
            "    Option #1\n",
            "      Callable with:\n",
            "        Argument #1\n",
            "          inputs: TensorSpec(shape=(None, 28, 28), dtype=tf.float32, name='inputs')\n",
            "        Argument #2\n",
            "          DType: bool\n",
            "          Value: False\n",
            "        Argument #3\n",
            "          DType: NoneType\n",
            "          Value: None\n",
            "    Option #2\n",
            "      Callable with:\n",
            "        Argument #1\n",
            "          flatten_input: TensorSpec(shape=(None, 28, 28), dtype=tf.float32, name='flatten_input')\n",
            "        Argument #2\n",
            "          DType: bool\n",
            "          Value: True\n",
            "        Argument #3\n",
            "          DType: NoneType\n",
            "          Value: None\n",
            "    Option #3\n",
            "      Callable with:\n",
            "        Argument #1\n",
            "          inputs: TensorSpec(shape=(None, 28, 28), dtype=tf.float32, name='inputs')\n",
            "        Argument #2\n",
            "          DType: bool\n",
            "          Value: True\n",
            "        Argument #3\n",
            "          DType: NoneType\n",
            "          Value: None\n",
            "    Option #4\n",
            "      Callable with:\n",
            "        Argument #1\n",
            "          flatten_input: TensorSpec(shape=(None, 28, 28), dtype=tf.float32, name='flatten_input')\n",
            "        Argument #2\n",
            "          DType: bool\n",
            "          Value: False\n",
            "        Argument #3\n",
            "          DType: NoneType\n",
            "          Value: None\n"
          ]
        }
      ],
      "source": [
        "!saved_model_cli show --dir {model_path} --all # saved model "
      ]
    },
    {
      "cell_type": "markdown",
      "metadata": {},
      "source": [
        "If running locally, needs to use docker docker run -it --rm -v  \"/Users/yzhao/Documents/Fall22/ML/DeployTFModels-FL/my_mnist_model:/models/my_mnist_model\" -p 8500:8500 -p 8501:8501 -e MODEL_NAME=my_mnist_model tensorflow/serving "
      ]
    },
    {
      "cell_type": "code",
      "execution_count": 53,
      "metadata": {
        "id": "2-SQykc5BCAK"
      },
      "outputs": [
        {
          "name": "stdout",
          "output_type": "stream",
          "text": [
            "/Users/yzhao/Documents/Fall22/ML/DeployTFModels-FL/my_mnist_model\n"
          ]
        }
      ],
      "source": [
        "np.save( \"my_mnist_tests.npy\", X_new )\n",
        "os.environ[\"MODEL_DIR\"] = str(model_path.parent.absolute())\n",
        "print(str(model_path.parent.absolute()))"
      ]
    },
    {
      "cell_type": "code",
      "execution_count": 54,
      "metadata": {},
      "outputs": [
        {
          "name": "stdout",
          "output_type": "stream",
          "text": [
            "2022-12-02 00:43:24.000873: I tensorflow/core/platform/cpu_feature_guard.cc:193] This TensorFlow binary is optimized with oneAPI Deep Neural Network Library (oneDNN) to use the following CPU instructions in performance-critical operations:  AVX2 FMA\n",
            "To enable them in other operations, rebuild TensorFlow with the appropriate compiler flags.\n",
            "2022-12-02 00:43:27.606600: I tensorflow/core/platform/cpu_feature_guard.cc:193] This TensorFlow binary is optimized with oneAPI Deep Neural Network Library (oneDNN) to use the following CPU instructions in performance-critical operations:  AVX2 FMA\n",
            "To enable them in other operations, rebuild TensorFlow with the appropriate compiler flags.\n",
            "WARNING:tensorflow:From /Users/yzhao/opt/miniconda3/envs/tensorflow/lib/python3.10/site-packages/tensorflow/python/tools/saved_model_cli.py:471: load (from tensorflow.python.saved_model.loader_impl) is deprecated and will be removed in a future version.\n",
            "Instructions for updating:\n",
            "Use `tf.saved_model.load` instead.\n",
            "INFO:tensorflow:Restoring parameters from my_mnist_model/0001/variables/variables\n",
            "2022-12-02 00:43:27.870032: I tensorflow/compiler/mlir/mlir_graph_optimization_pass.cc:357] MLIR V1 optimization pass is not enabled\n",
            "Result for output key dense_2:\n",
            "[[2.96729240e-06 3.24253790e-07 4.11663768e-06 7.27072256e-06\n",
            "  1.29482646e-06 2.42043776e-03 7.36846960e-06 1.15544340e-02\n",
            "  1.17851116e-04 9.85883892e-01]\n",
            " [4.25754261e-05 1.95856553e-09 9.99161482e-01 5.88559734e-09\n",
            "  7.75854627e-04 1.26225502e-10 2.01291659e-05 3.30601770e-14\n",
            "  2.91620594e-09 6.63436374e-13]\n",
            " [3.43607098e-06 9.99995828e-01 3.03607628e-09 4.08202112e-07\n",
            "  3.23290408e-07 4.41865424e-12 2.92902111e-08 6.11560733e-11\n",
            "  2.98311154e-09 2.53083804e-11]]\n"
          ]
        }
      ],
      "source": [
        "!saved_model_cli run --dir {model_path} --tag_set serve \\\n",
        "                     --signature_def serving_default    \\\n",
        "                     --inputs {input_name}=my_mnist_tests.npy"
      ]
    },
    {
      "cell_type": "code",
      "execution_count": 33,
      "metadata": {
        "id": "ubUQ73z9BgFB"
      },
      "outputs": [],
      "source": [
        "%%bash --bg\n",
        "tensorflow_model_server \\\n",
        "     --port=8500 \\\n",
        "     --rest_api_port=8501 \\\n",
        "     --model_name=my_mnist_model \\\n",
        "     --model_base_path=\"${MODEL_DIR}\" >my_server.log 2>&1"
      ]
    },
    {
      "cell_type": "code",
      "execution_count": 59,
      "metadata": {},
      "outputs": [
        {
          "name": "stdout",
          "output_type": "stream",
          "text": [
            "Using default tag: latest\n",
            "latest: Pulling from tensorflow/serving\n",
            "Digest: sha256:e66c1866bf6596473d56beb3ef77bf7b8b00baa0e1e80c3c428ede31da8ae066\n",
            "Status: Image is up to date for tensorflow/serving:latest\n",
            "docker.io/tensorflow/serving:latest\n",
            "2022-12-02 08:54:22.076963: I tensorflow_serving/model_servers/server.cc:74] Building single TensorFlow model file config:  model_name: my_mnist_model model_base_path: /models/my_mnist_model\n",
            "2022-12-02 08:54:22.080271: I tensorflow_serving/model_servers/server_core.cc:465] Adding/updating models.\n",
            "2022-12-02 08:54:22.080412: I tensorflow_serving/model_servers/server_core.cc:594]  (Re-)adding model: my_mnist_model\n",
            "2022-12-02 08:54:22.316537: I tensorflow_serving/core/basic_manager.cc:739] Successfully reserved resources to load servable {name: my_mnist_model version: 1}\n",
            "2022-12-02 08:54:22.316607: I tensorflow_serving/core/loader_harness.cc:66] Approving load for servable version {name: my_mnist_model version: 1}\n",
            "2022-12-02 08:54:22.316648: I tensorflow_serving/core/loader_harness.cc:74] Loading servable version {name: my_mnist_model version: 1}\n",
            "2022-12-02 08:54:22.317980: I external/org_tensorflow/tensorflow/cc/saved_model/reader.cc:45] Reading SavedModel from: /models/my_mnist_model/0001\n",
            "2022-12-02 08:54:22.324254: I external/org_tensorflow/tensorflow/cc/saved_model/reader.cc:89] Reading meta graph with tags { serve }\n",
            "2022-12-02 08:54:22.324318: I external/org_tensorflow/tensorflow/cc/saved_model/reader.cc:130] Reading SavedModel debug info (if present) from: /models/my_mnist_model/0001\n",
            "2022-12-02 08:54:22.328260: I external/org_tensorflow/tensorflow/core/platform/cpu_feature_guard.cc:193] This TensorFlow binary is optimized with oneAPI Deep Neural Network Library (oneDNN) to use the following CPU instructions in performance-critical operations:  AVX2 FMA\n",
            "To enable them in other operations, rebuild TensorFlow with the appropriate compiler flags.\n",
            "2022-12-02 08:54:22.398878: I external/org_tensorflow/tensorflow/compiler/mlir/mlir_graph_optimization_pass.cc:357] MLIR V1 optimization pass is not enabled\n",
            "2022-12-02 08:54:22.409954: I external/org_tensorflow/tensorflow/cc/saved_model/loader.cc:229] Restoring SavedModel bundle.\n",
            "2022-12-02 08:54:22.655434: I external/org_tensorflow/tensorflow/cc/saved_model/loader.cc:213] Running initialization op on SavedModel bundle at path: /models/my_mnist_model/0001\n",
            "2022-12-02 08:54:22.680236: I external/org_tensorflow/tensorflow/cc/saved_model/loader.cc:305] SavedModel load for tags { serve }; Status: success: OK. Took 362256 microseconds.\n",
            "2022-12-02 08:54:22.683055: I tensorflow_serving/servables/tensorflow/saved_model_warmup_util.cc:62] No warmup data file found at /models/my_mnist_model/0001/assets.extra/tf_serving_warmup_requests\n",
            "2022-12-02 08:54:22.790784: I tensorflow_serving/core/loader_harness.cc:95] Successfully loaded servable version {name: my_mnist_model version: 1}\n",
            "2022-12-02 08:54:22.794605: I tensorflow_serving/model_servers/server_core.cc:486] Finished adding/updating models\n",
            "2022-12-02 08:54:22.794691: I tensorflow_serving/model_servers/server.cc:118] Using InsecureServerCredentials\n",
            "2022-12-02 08:54:22.794735: I tensorflow_serving/model_servers/server.cc:383] Profiler service is enabled\n",
            "2022-12-02 08:54:22.800950: I tensorflow_serving/model_servers/server.cc:409] Running gRPC ModelServer at 0.0.0.0:8500 ...\n",
            "[warn] getaddrinfo: address family for nodename not supported\n",
            "2022-12-02 08:54:22.803636: I tensorflow_serving/model_servers/server.cc:430] Exporting HTTP/REST API at:localhost:8501 ...\n",
            "[evhttp_server.cc : 245] NET_LOG: Entering the event loop ...\n",
            "^C\n"
          ]
        }
      ],
      "source": [
        "!docker pull tensorflow/serving\n",
        "!docker run -it --rm -p 8500:8500 -p 8501:8501 \\\n",
        "   -v \"/Users/yzhao/Documents/Fall22/ML/DeployTFModels-FL/my_mnist_model:/models/my_mnist_model\" \\\n",
        "   -e MODEL_NAME=my_mnist_model \\\n",
        "   tensorflow/serving"
      ]
    },
    {
      "cell_type": "code",
      "execution_count": 72,
      "metadata": {
        "id": "ZD_w_4iLBkje"
      },
      "outputs": [
        {
          "name": "stdout",
          "output_type": "stream",
          "text": [
            "{'predictions': [[2.96729536e-06, 3.2425379e-07, 4.11664541e-06, 7.27073666e-06, 1.29482646e-06, 0.00242043892, 7.36847642e-06, 0.0115544396, 0.000117851232, 0.985883892], [4.25755061e-05, 1.95856553e-09, 0.999161482, 5.88558624e-09, 0.000775854627, 1.26225502e-10, 2.01292041e-05, 3.30602414e-14, 2.91620594e-09, 6.63435127e-13], [3.43606439e-06, 0.999995828, 3.03607051e-09, 4.08200947e-07, 3.23289783e-07, 4.418646e-12, 2.92901543e-08, 6.11559622e-11, 2.98310576e-09, 2.53083318e-11]]}\n"
          ]
        }
      ],
      "source": [
        "# Query TF serving \n",
        "request_json = json.dumps({\n",
        "    \"signature_name\": \"serving_default\",\n",
        "    \"instances\": X_new.tolist(),\n",
        "})\n",
        "# POST REST request to TF Serving\n",
        "server_url = \"http://localhost:8501/v1/models/my_mnist_model:predict\"\n",
        "response = requests.post(server_url, data=request_json)\n",
        "response.raise_for_status()  # raise an exception in case of error\n",
        "response = response.json()\n",
        "print(response)"
      ]
    },
    {
      "cell_type": "code",
      "execution_count": 66,
      "metadata": {
        "id": "126v0Xb0ELb5"
      },
      "outputs": [
        {
          "data": {
            "text/plain": [
              "array([[0.  , 0.  , 0.  , 0.  , 0.  , 0.  , 0.  , 0.01, 0.  , 0.99],\n",
              "       [0.  , 0.  , 1.  , 0.  , 0.  , 0.  , 0.  , 0.  , 0.  , 0.  ],\n",
              "       [0.  , 1.  , 0.  , 0.  , 0.  , 0.  , 0.  , 0.  , 0.  , 0.  ]])"
            ]
          },
          "execution_count": 66,
          "metadata": {},
          "output_type": "execute_result"
        }
      ],
      "source": [
        "y_proba = np.array( response['predictions'] )\n",
        "y_proba.round(2)"
      ]
    },
    {
      "cell_type": "code",
      "execution_count": null,
      "metadata": {
        "id": "2LVWZiT1FLA3"
      },
      "outputs": [],
      "source": []
    }
  ],
  "metadata": {
    "colab": {
      "authorship_tag": "ABX9TyOjc/35tvAjqrcFDX/t9xQw",
      "include_colab_link": true,
      "provenance": []
    },
    "kernelspec": {
      "display_name": "Python 3",
      "name": "python3"
    },
    "language_info": {
      "codemirror_mode": {
        "name": "ipython",
        "version": 3
      },
      "file_extension": ".py",
      "mimetype": "text/x-python",
      "name": "python",
      "nbconvert_exporter": "python",
      "pygments_lexer": "ipython3",
      "version": "3.10.8"
    }
  },
  "nbformat": 4,
  "nbformat_minor": 0
}
